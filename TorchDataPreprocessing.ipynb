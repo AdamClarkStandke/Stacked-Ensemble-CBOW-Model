{
 "cells": [
  {
   "cell_type": "code",
   "execution_count": 1,
   "metadata": {},
   "outputs": [],
   "source": [
    "import warnings\n",
    "warnings.filterwarnings('ignore')"
   ]
  },
  {
   "cell_type": "code",
   "execution_count": 2,
   "metadata": {},
   "outputs": [],
   "source": [
    "import pandas as pd\n",
    "import numpy as np\n",
    "from numpy import genfromtxt\n",
    "import torch\n",
    "from torchtext.legacy import data \n",
    "from torch.utils.data import Dataset, DataLoader, DistributedSampler\n",
    "from torchtext.data.utils import get_tokenizer\n",
    "from torchtext.vocab import build_vocab_from_iterator"
   ]
  },
  {
   "cell_type": "code",
   "execution_count": 4,
   "metadata": {},
   "outputs": [],
   "source": [
    "PATH='/mnt/chromeos/GoogleDrive/MyDrive/Datasets/fake_real_data.csv'\n",
    "stop_words=['the', '”', '\\xa0', ' ']\n",
    "TEXT = data.Field(tokenize='spacy', batch_first=True,  include_lengths=True, stop_words=stop_words)\n",
    "LABEL = data.LabelField(dtype = torch.float, batch_first=True)\n",
    "\n",
    "fields = [('text',TEXT),('label', LABEL)]\n",
    "train_data=data.TabularDataset(path=PATH, format= 'csv', fields=fields, skip_header=True)"
   ]
  },
  {
   "cell_type": "code",
   "execution_count": 5,
   "metadata": {},
   "outputs": [],
   "source": [
    "TEXT.build_vocab(train_data, min_freq=1)\n",
    "LABEL.build_vocab(train_data)\n",
    "word_to_ix = TEXT.vocab.stoi\n",
    "torch.save(word_to_ix, 'wordDict.pth')\n",
    "ix_to_word = TEXT.vocab.itos\n",
    "torch.save(ix_to_word, 'indexDict.pth')"
   ]
  },
  {
   "cell_type": "code",
   "execution_count": 5,
   "metadata": {},
   "outputs": [],
   "source": [
    "# Part implementation of Word Embedding tutorial as found\n",
    "# @ https://pytorch.org/tutorials/beginner/nlp\n",
    "#  /word_embeddings_tutorial.html\n",
    "# and Jake Wherlock's custom dataset loading tutorial as found @\n",
    "# https://towardsdatascience.com/how-to-use-datasets-and-dataloader-\n",
    "# in-pytorch-for-custom-text-data-270eed7f7c00\n",
    "\n",
    "CONTEXT_SIZE = 2\n",
    "\n",
    "class CustomTextDataset(Dataset):\n",
    "    def __init__(self, train_data):\n",
    "        self.data = train_data\n",
    "    \n",
    "    def __len__(self):\n",
    "        return len(self.data.examples)\n",
    "    \n",
    "    def __getitem__(self, idx):\n",
    "        item = vars(self.data.examples[idx])\n",
    "        raw_text = item['text']\n",
    "        data = []\n",
    "        for i in range(CONTEXT_SIZE, len(raw_text) - CONTEXT_SIZE):\n",
    "            context = [raw_text[i - j - 1] for j in range(CONTEXT_SIZE)] + [raw_text[i + j + 1] for j in range(CONTEXT_SIZE)]\n",
    "            target = raw_text[i]\n",
    "            data.append((context, target))\n",
    "        return data\n",
    "\n",
    "temp_data = CustomTextDataset(train_data)\n",
    "data_loader = DataLoader(temp_data)"
   ]
  },
  {
   "cell_type": "code",
   "execution_count": 6,
   "metadata": {},
   "outputs": [],
   "source": [
    "def make_context_vector(context, word_to_ix):\n",
    "    idxs = [word_to_ix[i[0]] for i in context]\n",
    "    return torch.tensor(idxs, dtype=torch.long)\n",
    "\n",
    "for idx,data_i in enumerate(data_loader):\n",
    "    context = []\n",
    "    target = []\n",
    "    for x in data_i:\n",
    "        context.append(make_context_vector(x[0], word_to_ix).numpy())\n",
    "        target.append(torch.tensor([word_to_ix[x[1][0]]], dtype=torch.long).numpy())\n",
    "    with open('context.csv', 'a+') as f:\n",
    "        np.savetxt(f, context, delimiter=',', fmt='%d')\n",
    "    with open('target.csv', 'a+') as f:\n",
    "        np.savetxt(f, target, delimiter=',', fmt='%d')"
   ]
  },
  {
   "cell_type": "code",
   "execution_count": null,
   "metadata": {},
   "outputs": [],
   "source": []
  }
 ],
 "metadata": {
  "kernelspec": {
   "display_name": "Python 3",
   "language": "python",
   "name": "python3"
  },
  "language_info": {
   "codemirror_mode": {
    "name": "ipython",
    "version": 3
   },
   "file_extension": ".py",
   "mimetype": "text/x-python",
   "name": "python",
   "nbconvert_exporter": "python",
   "pygments_lexer": "ipython3",
   "version": "3.7.3"
  }
 },
 "nbformat": 4,
 "nbformat_minor": 2
}
