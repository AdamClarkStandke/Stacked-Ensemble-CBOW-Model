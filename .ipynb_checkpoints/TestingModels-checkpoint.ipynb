{
 "cells": [
  {
   "cell_type": "code",
   "execution_count": null,
   "metadata": {},
   "outputs": [],
   "source": [
    "def binary_accuracy(model, text, y, lens):\n",
    "    model.eval()\n",
    "    if lens != None:\n",
    "        preds = model(text, lens)\n",
    "    else:\n",
    "        preds = model(text)\n",
    "    #round predictions to the closest integer\n",
    "    rounded_preds = torch.round(preds)\n",
    "    correct = (rounded_preds == y).float() \n",
    "    acc = correct.sum() / len(correct)\n",
    "    return acc\n",
    "\n",
    "batch=next(iter(dtes_load))\n",
    "text, label, length = batch\n",
    "\n",
    "for f in models:\n",
    "    if f.__class__.__name__=='OneLayerGRUAttModel':\n",
    "        acc=binary_accuracy(f, text, label, length)\n",
    "        print('OneLayerGRUAttModel: '+ str(acc))    \n",
    "    elif f.__class__.__name__=='TwoLayerGRUAttModel':\n",
    "        acc=binary_accuracy(f, text, label, length)\n",
    "        print('TwoLayerGRUAttModel: '+ str(acc))\n",
    "    else:\n",
    "        acc=binary_accuracy(f, text, label, None)\n",
    "        print('C-DNNModel: '+ str(acc))"
   ]
  }
 ],
 "metadata": {
  "kernelspec": {
   "display_name": "Python 3",
   "language": "python",
   "name": "python3"
  },
  "language_info": {
   "codemirror_mode": {
    "name": "ipython",
    "version": 3
   },
   "file_extension": ".py",
   "mimetype": "text/x-python",
   "name": "python",
   "nbconvert_exporter": "python",
   "pygments_lexer": "ipython3",
   "version": "3.7.3"
  }
 },
 "nbformat": 4,
 "nbformat_minor": 2
}
